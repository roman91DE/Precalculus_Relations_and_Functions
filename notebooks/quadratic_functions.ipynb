{
 "cells": [
  {
   "cell_type": "markdown",
   "id": "2ecfb581",
   "metadata": {},
   "source": [
    "# Vertex Formulas for a Quadratic Function\n",
    "\n",
    "A quadratic function has the general form:\n",
    "\n",
    "$$\n",
    "f(x) = ax^2 + bx + c\n",
    "$$\n",
    "\n",
    "The coordinates of the vertex can be found directly without using derivatives:\n",
    "\n",
    "$$x\n",
    "_{\\text{vertex}} = -\\frac{b}{2a}\n",
    "$$\n",
    "\n",
    "$$\n",
    "y_{\\text{vertex}} = \\frac{4ac - b^2}{4a}\n",
    "$$"
   ]
  },
  {
   "cell_type": "code",
   "execution_count": 96,
   "id": "e6d2342f",
   "metadata": {},
   "outputs": [],
   "source": [
    "from functools import partial\n",
    "\n",
    "import sympy as sp\n",
    "import polars as pl\n",
    "import numpy as np\n",
    "import seaborn as sns"
   ]
  },
  {
   "cell_type": "code",
   "execution_count": 97,
   "id": "8cb9473b",
   "metadata": {},
   "outputs": [],
   "source": [
    "def quadratic(x: float, a: float, b: float, c: float) -> float:\n",
    "    return (a * (x**2)) + (b * x) + c\n",
    "\n",
    "\n",
    "aval, bval, cval = 4, -6, 42"
   ]
  },
  {
   "cell_type": "code",
   "execution_count": 98,
   "id": "53e6a6f7",
   "metadata": {},
   "outputs": [],
   "source": [
    "func = partial(quadratic, a=aval, b=bval, c=cval)"
   ]
  },
  {
   "cell_type": "code",
   "execution_count": 99,
   "id": "9faa2769",
   "metadata": {},
   "outputs": [],
   "source": [
    "X = np.linspace(-20, 20, dtype=np.float64())"
   ]
  },
  {
   "cell_type": "code",
   "execution_count": 100,
   "id": "ff67dbb7",
   "metadata": {},
   "outputs": [
    {
     "data": {
      "text/html": [
       "<div><style>\n",
       ".dataframe > thead > tr,\n",
       ".dataframe > tbody > tr {\n",
       "  text-align: right;\n",
       "  white-space: pre-wrap;\n",
       "}\n",
       "</style>\n",
       "<small>shape: (50, 2)</small><table border=\"1\" class=\"dataframe\"><thead><tr><th>x</th><th>y</th></tr><tr><td>f64</td><td>f64</td></tr></thead><tbody><tr><td>-20.0</td><td>1762.0</td></tr><tr><td>-19.183673</td><td>1629.155352</td></tr><tr><td>-18.367347</td><td>1501.641816</td></tr><tr><td>-17.55102</td><td>1379.459392</td></tr><tr><td>-16.734694</td><td>1262.60808</td></tr><tr><td>&hellip;</td><td>&hellip;</td></tr><tr><td>16.734694</td><td>1061.791753</td></tr><tr><td>17.55102</td><td>1168.847147</td></tr><tr><td>18.367347</td><td>1281.233653</td></tr><tr><td>19.183673</td><td>1398.95127</td></tr><tr><td>20.0</td><td>1522.0</td></tr></tbody></table></div>"
      ],
      "text/plain": [
       "shape: (50, 2)\n",
       "┌────────────┬─────────────┐\n",
       "│ x          ┆ y           │\n",
       "│ ---        ┆ ---         │\n",
       "│ f64        ┆ f64         │\n",
       "╞════════════╪═════════════╡\n",
       "│ -20.0      ┆ 1762.0      │\n",
       "│ -19.183673 ┆ 1629.155352 │\n",
       "│ -18.367347 ┆ 1501.641816 │\n",
       "│ -17.55102  ┆ 1379.459392 │\n",
       "│ -16.734694 ┆ 1262.60808  │\n",
       "│ …          ┆ …           │\n",
       "│ 16.734694  ┆ 1061.791753 │\n",
       "│ 17.55102   ┆ 1168.847147 │\n",
       "│ 18.367347  ┆ 1281.233653 │\n",
       "│ 19.183673  ┆ 1398.95127  │\n",
       "│ 20.0       ┆ 1522.0      │\n",
       "└────────────┴─────────────┘"
      ]
     },
     "execution_count": 100,
     "metadata": {},
     "output_type": "execute_result"
    }
   ],
   "source": [
    "df = pl.DataFrame({\"x\": X, \"y\": func(X)})\n",
    "\n",
    "df"
   ]
  },
  {
   "cell_type": "code",
   "execution_count": 101,
   "id": "69bd0b20",
   "metadata": {},
   "outputs": [
    {
     "data": {
      "text/plain": [
       "<Axes: xlabel='x', ylabel='y'>"
      ]
     },
     "execution_count": 101,
     "metadata": {},
     "output_type": "execute_result"
    },
    {
     "data": {
      "image/png": "[encoded data removed]",
      "text/plain": [
       "<Figure size 640x480 with 1 Axes>"
      ]
     },
     "metadata": {},
     "output_type": "display_data"
    }
   ],
   "source": [
    "sns.lineplot(df, x=\"x\", y=\"y\")"
   ]
  },
  {
   "cell_type": "code",
   "execution_count": 102,
   "id": "bc88aece",
   "metadata": {},
   "outputs": [
    {
     "data": {
      "text/latex": [
       "$\\displaystyle f{\\left(x \\right)} = a x^{2} + b x + c$"
      ],
      "text/plain": [
       "Eq(f(x), a*x**2 + b*x + c)"
      ]
     },
     "execution_count": 102,
     "metadata": {},
     "output_type": "execute_result"
    }
   ],
   "source": [
    "x, a, b, c = sp.symbols(\"x,a,b,c\")\n",
    "f = sp.Function(\"f\")(x)\n",
    "\n",
    "expr = sp.Eq(f, (a * (x**2)) + (b * x) + (c))\n",
    "\n",
    "expr"
   ]
  },
  {
   "cell_type": "code",
   "execution_count": 103,
   "id": "db8dccee",
   "metadata": {},
   "outputs": [
    {
     "data": {
      "text/latex": [
       "$\\displaystyle 2 a x + b$"
      ],
      "text/plain": [
       "2*a*x + b"
      ]
     },
     "execution_count": 103,
     "metadata": {},
     "output_type": "execute_result"
    }
   ],
   "source": [
    "derivative1 = sp.diff(expr.rhs, x)\n",
    "derivative1"
   ]
  },
  {
   "cell_type": "code",
   "execution_count": 104,
   "id": "060cc0cc",
   "metadata": {},
   "outputs": [
    {
     "name": "stdout",
     "output_type": "stream",
     "text": [
      "( 3/4 , 159/4 )\n"
     ]
    }
   ],
   "source": [
    "d1_expr = sp.Eq(0, derivative1)\n",
    "x_zero = sp.solve(d1_expr.subs({\"a\": aval, \"b\": bval}))\n",
    "y_zero = list(map(func, x_zero))\n",
    "\n",
    "\n",
    "for _x, _y in zip(x_zero, y_zero):\n",
    "    print(\"(\", _x, \",\", _y, \")\")"
   ]
  },
  {
   "cell_type": "code",
   "execution_count": 105,
   "id": "0320efee",
   "metadata": {},
   "outputs": [
    {
     "name": "stdout",
     "output_type": "stream",
     "text": [
      "Is Minimum\n"
     ]
    }
   ],
   "source": [
    "derivative2 = sp.diff(derivative1, x)\n",
    "\n",
    "if derivative2.subs({\"a\": aval}) > 0:\n",
    "    print(\"Is Minimum\")\n",
    "else:\n",
    "    print(\"Is Maximum\")"
   ]
  },
  {
   "cell_type": "code",
   "execution_count": null,
   "id": "a8dbcbaa",
   "metadata": {},
   "outputs": [
    {
     "data": {
      "text/plain": [
       "(-b/(2*a), (4*a*c - b**2)/(4*a))"
      ]
     },
     "execution_count": 106,
     "metadata": {},
     "output_type": "execute_result"
    }
   ],
   "source": [
    "# These two formulas can directly find the Coordinates of the Vertex for a quadratic function without using Derivatives\n",
    "\n",
    "x_vertex_formula = -b / (2 * a)\n",
    "y_vertex_formula = (4 * a * c - (b**2)) / (4 * a)"
   ]
  },
  {
   "cell_type": "code",
   "execution_count": 107,
   "id": "3c859091",
   "metadata": {},
   "outputs": [
    {
     "data": {
      "text/plain": [
       "(3/4, 159/4)"
      ]
     },
     "execution_count": 107,
     "metadata": {},
     "output_type": "execute_result"
    }
   ],
   "source": [
    "(\n",
    "    x_vertex_formula.subs({\"b\": bval, \"a\": aval}),\n",
    "    y_vertex_formula.subs({\"b\": bval, \"a\": aval, \"c\": cval}),\n",
    ")"
   ]
  },
  {
   "cell_type": "markdown",
   "id": "419e965f",
   "metadata": {},
   "source": [
    "# Solving a Quadratic Equation: Quadratic Formula and PQ-Formel\n",
    "\n",
    "A quadratic equation has the general form:\n",
    "\n",
    "$$\n",
    "ax^2 + bx + c = 0\n",
    "$$\n",
    "\n",
    "The **Quadratic Formula** to find the solutions is:\n",
    "\n",
    "$$\n",
    "x = \\frac{-b \\pm \\sqrt{b^2 - 4ac}}{2a}\n",
    "$$\n",
    "\n",
    "---\n",
    "\n",
    "In Germany, a slightly rearranged version called the **PQ-Formel** is often used.  \n",
    "The quadratic equation is first rewritten in the form:\n",
    "\n",
    "$$\n",
    "x^2 + px + q = 0\n",
    "$$\n",
    "\n",
    "where:\n",
    "\n",
    "- \\( p = \\frac{b}{a} \\)\n",
    "- \\( q = \\frac{c}{a} \\)\n",
    "\n",
    "Then the **PQ-Formel** gives the solutions as:\n",
    "\n",
    "$$\n",
    "x = -\\frac{p}{2} \\pm \\sqrt{\\left(\\frac{p}{2}\\right)^2 - q}\n",
    "$$"
   ]
  }
 ],
 "metadata": {
  "kernelspec": {
   "display_name": ".venv",
   "language": "python",
   "name": "python3"
  },
  "language_info": {
   "codemirror_mode": {
    "name": "ipython",
    "version": 3
   },
   "file_extension": ".py",
   "mimetype": "text/x-python",
   "name": "python",
   "nbconvert_exporter": "python",
   "pygments_lexer": "ipython3",
   "version": "3.13.3"
  }
 },
 "nbformat": 4,
 "nbformat_minor": 5
}

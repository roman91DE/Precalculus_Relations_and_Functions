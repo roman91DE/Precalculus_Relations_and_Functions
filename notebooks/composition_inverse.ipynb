{
 "cells": [
  {
   "cell_type": "code",
   "execution_count": null,
   "id": "786e388b",
   "metadata": {},
   "outputs": [],
   "source": [
    "from sympy import *\n",
    "\n",
    "%matplotlib inline"
   ]
  },
  {
   "cell_type": "code",
   "execution_count": 29,
   "id": "c9aa1849",
   "metadata": {},
   "outputs": [],
   "source": [
    "x = symbols(\"x\")\n",
    "f = Function(\"f\")(x)\n",
    "g = Function(\"g\")(x)\n",
    "h = Function(\"h\")(x)"
   ]
  },
  {
   "cell_type": "markdown",
   "id": "4695070e",
   "metadata": {
    "vscode": {
     "languageId": "raw"
    }
   },
   "source": [
    "# Q1\n",
    "\n",
    "$f(x) = 3x^2 + 2$  \n",
    "$g(x) = e^{2x}$  \n",
    "$(f \\circ g)(x) = ?$\n"
   ]
  },
  {
   "cell_type": "code",
   "execution_count": 30,
   "id": "8e2b51af",
   "metadata": {},
   "outputs": [
    {
     "data": {
      "text/latex": [
       "$\\displaystyle f{\\left(e^{2 x} \\right)} = 3 e^{4 x} + 2$"
      ],
      "text/plain": [
       "Eq(f(exp(2*x)), 3*exp(4*x) + 2)"
      ]
     },
     "execution_count": 30,
     "metadata": {},
     "output_type": "execute_result"
    }
   ],
   "source": [
    "fexpr = Eq(f, 3 * (x**2) + 2)\n",
    "gexpr = Eq(g, (E ** (2 * x)))\n",
    "\n",
    "fexpr.replace(x, gexpr.rhs)"
   ]
  },
  {
   "cell_type": "markdown",
   "id": "4b2953c0",
   "metadata": {},
   "source": [
    "# Q2\n",
    "\n",
    "$f(x) = x^2 + 2$  \n",
    "$g(x) = \\sqrt{x}$  \n",
    "Domain of $(g \\circ f)(x)$ ? \n"
   ]
  },
  {
   "cell_type": "code",
   "execution_count": 31,
   "id": "f721e165",
   "metadata": {},
   "outputs": [
    {
     "data": {
      "text/latex": [
       "$\\displaystyle \\sqrt{x^{2} + 2}$"
      ],
      "text/plain": [
       "sqrt(x**2 + 2)"
      ]
     },
     "execution_count": 31,
     "metadata": {},
     "output_type": "execute_result"
    }
   ],
   "source": [
    "x = symbols(\"x\")\n",
    "f = Function(\"f\")(x)\n",
    "g = Function(\"g\")(x)\n",
    "\n",
    "\n",
    "(expr := sqrt((x**2) + 2))"
   ]
  },
  {
   "cell_type": "code",
   "execution_count": 32,
   "id": "9af5f17a",
   "metadata": {},
   "outputs": [
    {
     "data": {
      "image/png": "[encoded data removed]",
      "text/plain": [
       "<Figure size 640x480 with 1 Axes>"
      ]
     },
     "metadata": {},
     "output_type": "display_data"
    }
   ],
   "source": [
    "plot(expr, (x, -10, 10));  # Domain (-inf, inf)"
   ]
  },
  {
   "cell_type": "markdown",
   "id": "d6303348",
   "metadata": {},
   "source": [
    "# Q3\n",
    "\n",
    "$h(x) = \\frac{1}{e^{2x}}$  \n",
    "$g(x) = x^{-2}$  \n",
    "Find $f(x)$ so that $h(x) = (g \\circ f)(x)$\n"
   ]
  },
  {
   "cell_type": "code",
   "execution_count": 64,
   "id": "e55a7420",
   "metadata": {},
   "outputs": [
    {
     "data": {
      "text/latex": [
       "$\\displaystyle e^{- 2 x}$"
      ],
      "text/plain": [
       "exp(-2*x)"
      ]
     },
     "execution_count": 64,
     "metadata": {},
     "output_type": "execute_result"
    }
   ],
   "source": [
    "(hexpr := 1 / (E ** (2 * x)))"
   ]
  },
  {
   "cell_type": "code",
   "execution_count": 65,
   "id": "3d2ef801",
   "metadata": {},
   "outputs": [
    {
     "data": {
      "text/latex": [
       "$\\displaystyle \\frac{1}{x^{2}}$"
      ],
      "text/plain": [
       "x**(-2)"
      ]
     },
     "execution_count": 65,
     "metadata": {},
     "output_type": "execute_result"
    }
   ],
   "source": [
    "(gexpr := x**-2)"
   ]
  },
  {
   "cell_type": "code",
   "execution_count": 66,
   "id": "704cdd4e",
   "metadata": {},
   "outputs": [
    {
     "data": {
      "text/latex": [
       "$\\displaystyle e^{x}$"
      ],
      "text/plain": [
       "exp(x)"
      ]
     },
     "execution_count": 66,
     "metadata": {},
     "output_type": "execute_result"
    }
   ],
   "source": [
    "fexpr = E**x\n",
    "assert gexpr.replace(x, fexpr) - hexpr == 0\n",
    "fexpr"
   ]
  }
 ],
 "metadata": {
  "kernelspec": {
   "display_name": ".venv",
   "language": "python",
   "name": "python3"
  },
  "language_info": {
   "codemirror_mode": {
    "name": "ipython",
    "version": 3
   },
   "file_extension": ".py",
   "mimetype": "text/x-python",
   "name": "python",
   "nbconvert_exporter": "python",
   "pygments_lexer": "ipython3",
   "version": "3.13.3"
  }
 },
 "nbformat": 4,
 "nbformat_minor": 5
}
